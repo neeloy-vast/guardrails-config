{
 "cells": [
  {
   "cell_type": "code",
   "execution_count": 1,
   "id": "92201724-fc20-4564-954d-29edcada2454",
   "metadata": {},
   "outputs": [],
   "source": [
    "import requests\n",
    "import json\n",
    "import pandas as pd\n",
    "from langchain.document_loaders import DataFrameLoader"
   ]
  },
  {
   "cell_type": "code",
   "execution_count": 82,
   "id": "88755d5c-cbe3-4985-a022-b36f59ae944d",
   "metadata": {},
   "outputs": [
    {
     "name": "stdout",
     "output_type": "stream",
     "text": [
      "                         element_id  \\\n",
      "0  4b38edcd8cb19551bf707426d01c346c   \n",
      "1  e9341ada70ee72775f5305af251aa492   \n",
      "2  c0e3da97370455961560e4975bd528a9   \n",
      "3  144343272cd58584a994582fd993ccee   \n",
      "4  8d943843d36284a126a15acb5c5bf3a7   \n",
      "5  a40a69099854c04bb0c4e96d2beee944   \n",
      "6  70a994cc0493ba9317b102a3f6d2ba98   \n",
      "7  4736e10982d48ce915697f6bf7fce972   \n",
      "8  7a8ca1c2fe1895949a7255ecfa272554   \n",
      "9  8176a1390a48413a838b44b1bddea738   \n",
      "\n",
      "                                        cleaned_text    file_directory  \\\n",
      "0  A large body of research on team formation onl...  /tmp/pdf_chunker   \n",
      "1  based on processing of whole-brain tractograms...  /tmp/pdf_chunker   \n",
      "2  5.2 Benchmarking Methods Benchmarking SM appro...  /tmp/pdf_chunker   \n",
      "3  Hidden Markov Models (HMM), often factorial HM...  /tmp/pdf_chunker   \n",
      "4  Both research articles conducted on industrial...  /tmp/pdf_chunker   \n",
      "5  DISCUSSION We systematically reviewed studies ...  /tmp/pdf_chunker   \n",
      "6  On the other hand, considering the use of mark...  /tmp/pdf_chunker   \n",
      "7  A. Category 1: Consumer-Oriented IoT 1) Securi...  /tmp/pdf_chunker   \n",
      "8  ily available but can also be reused across wi...  /tmp/pdf_chunker   \n",
      "9  Analytical methods are typically based on trac...  /tmp/pdf_chunker   \n",
      "\n",
      "           filename         filetype languages        last_modified  \\\n",
      "0  2402.00031v1.pdf  application/pdf   ['eng']  2024-09-27T15:08:04   \n",
      "1  2402.00019v1.pdf  application/pdf   ['eng']  2024-09-27T15:02:07   \n",
      "2  2402.01685v1.pdf  application/pdf   ['eng']  2024-09-27T20:53:18   \n",
      "3  2402.01654v1.pdf  application/pdf   ['eng']  2024-09-27T20:58:13   \n",
      "4  2402.01654v1.pdf  application/pdf   ['eng']  2024-09-27T20:58:13   \n",
      "5  2402.01700v1.pdf  application/pdf   ['eng']  2024-09-27T20:56:48   \n",
      "6  2402.01689v1.pdf  application/pdf   ['eng']  2024-09-27T21:04:23   \n",
      "7  2402.00356v1.pdf  application/pdf   ['eng']  2024-09-27T22:40:09   \n",
      "8  2402.00708v1.pdf  application/pdf   ['eng']  2024-09-28T00:21:51   \n",
      "9  2402.01370v1.pdf  application/pdf   ['eng']  2024-09-28T02:40:38   \n",
      "\n",
      "  page_number  \n",
      "0           2  \n",
      "1          11  \n",
      "2           9  \n",
      "3           7  \n",
      "4           8  \n",
      "5          21  \n",
      "6          13  \n",
      "7           4  \n",
      "8           4  \n",
      "9           2  \n"
     ]
    }
   ],
   "source": [
    "vectordb_url=\"http://vectordb.runai-vast.svc.cluster.local/retrieve-chunks/\"\n",
    "\n",
    "query = \"What technologies have propelled AUVs to new heights?\"\n",
    "\n",
    "query_string = {'query':query}\n",
    "\n",
    "response = requests.post(vectordb_url,json=query_string)\n",
    "\n",
    "results = pd.DataFrame(response.json()['results'])\n",
    "\n",
    "print (results)"
   ]
  },
  {
   "cell_type": "code",
   "execution_count": 84,
   "id": "0cb80841-184d-4924-9f5a-8d3b1c9597fa",
   "metadata": {},
   "outputs": [
    {
     "name": "stdout",
     "output_type": "stream",
     "text": [
      "{\n",
      " \"model\": \"nvidia/nv-rerankqa-mistral-4b-v3\",\n",
      " \"query\": {\n",
      "  \"text\": \"The most common systems used in eSport games for matchmaking are skill and rank-based systems.\"\n",
      " },\n",
      " \"passages\": [\n",
      "  {\n",
      "   \"text\": \"A large body of research on team formation only considers the team itself in isolation from the competitive environment. A study has involved multi-stage stochastic algorithms for team formation, but only to optimize two properties: cost and competency [11]. Others have focused on optimizing team formation while minimizing fault lines within the team, but without trying to maximize the competitiveness [12]. Others also focus on optimizing teams based on the generally accepted nine Belbin team roles or the experts and laymen problem [13], [14]. Such an approach is not generalizable in domain where flat hierarchy dominates the teams. Algorithms are developed for team formation in the field of software development, often using bio-inspired algorithms such as genetic algorithms [15], [16]. However, these often require fine-grained data for each member, using data mining techniques or manual intervention for the dataset creation [16][25]. Such precise data is not available in our domain where performance metrics are captured for the overall team as opposed to fine-grained for each member. Others research the domains where the in-depth competence for general set of skills is fundamental, but the diversity of skill types does not contribute to better performance [26]. Such team-making approaches are inapplicable in our domain, where diversity in background and skills is fundamental for the overall success of the team. Many team-making domains allow acquiring baseline pre- test data of member or surveys to help form teams [27], [28]. This is inadequate in our domain where members of teams change throughout season, and there is no baseline score or survey taken in our domain. Others use genetic algorithms to optimize group formation to promote collaborative problem-based learning but by bal- ancing teams so that members have similar skill levels [29], which is inapplicable to our competitive domain, where each team member often has specialized role described by skill metrics.\"\n",
      "  },\n",
      "  {\n",
      "   \"text\": \"based on processing of whole-brain tractograms [199], [200], [201], [188], [202]. There are two common ap- proaches used by these methods. (1) One set of methods compare individual streamlines with predened set of bers in an atlas and assign the streamline to specic tract [203], [199], [200]. (2) Other methods cluster the streamlines based on some measure of pair-wise sim- ilarity [204], [182]. There exist various techniques for implementing the clustering, for example using normal- ized cuts [205]. Both these sub-classes of methods can be computationally expensive, especially for larger number of streamlines and higher image resolution. Consequently, much effort has been directed towards developing fast streamline clustering methods [204], [206]. Some tech- niques additionally take into account the location of the streamlines relative to anatomical landmarks in the brain [188], [202], [207], [208]. Most clustering-based methods aim at nding streamlines that have similar geometric shapes and spatial extents. There are also methods that cluster streamlines based on their start/end points [209]. However, methods that use streamline start/end points may not perform as well as streamline clustering methods [210].\"\n",
      "  },\n",
      "  {\n",
      "   \"text\": \"5.2 Benchmarking Methods Benchmarking SM approaches evaluated in experiments can be tentatively categorized into three types: schema-based, value-based and hybrid matching. 5.2.1 Schema-based Matching. A schema-based matching employs schema-related information, which includes column names, de- scription, inter-column relationships, etc, to find out matched pairs within two different schemas. Cupid. The Cupid [31] framework represents an initial effort of this approach, encompassing linguistic matching of column names, which calculates similarity through synonyms and hypernyms, and structural matching that examines the hierarchy between columns, considering their containment relationships. Column matches are determined by weighted combination of these linguistic and struc- tural similarities. Similarity Flooding. Similarity flooding [33] is schema-matching method that uses graph representations to assess relationships be- tween columns, initiating with string matcher that identifies potential column mappings through common prefixes and suffixes. This method then expands the search for matches by propagat- ing similarities; if two columns from different schemas are similar, 5.2.2 Value-based Matching. A value-based matching is data-oriented, focusing on utilizing statistical measures to explore relationships between values under different columns. Distribution-based. A distribution-based schema matcher [58] utilizes the Earth Mover Distance (EMD) to measure how much effort is required to transform one column set of values into another, focusing on their rankings. Initially, it clusters columns using pairwise EMD calculations. Next, clusters are broken down into matched pairs using the intersection EMD, metric grounded in two principles: columns sharing many values are likely related, and columns with minimal intersection are matched if they both significantly overlap with third column.\"\n",
      "  },\n",
      "  {\n",
      "   \"text\": \"Hidden Markov Models (HMM), often factorial HMMs, are frequently used either independently or in conjunction with other methods. Typically employed in non- event-based manner, HMMs can also be utilized based on events to address issues re- lated to other HMM algorithms, as demonstrated in [49]. Wen Fan [54] uses FHMM to model appliance states and an optimization method to solve the disaggregation prob- lem. Less common methods include probability-based approaches, such as Gaussian Mixture Models in [64], or Linear Discriminant Classifier Group in [73]. 4111 ie _ 4111 = neural network = knn = optimization = filtering ie = HMM = bayesian _ = GSP = classifier chain = decision tree and forest = Gaussian mixture models = sparse coding Bag-of-Power-States Model = SVM = Delta feature model (DF) = PCA  linear discriminant classifier = clustering = cepstrum-smoothing = knn = filtering = bayesian = classifier chain = Gaussian mixture models Bag-of-Power-States Model = Delta feature model (DF)  linear discriminant classifier = cepstrum-smoothing Fig. 4. The distribution of methods used for Load disaggregation. Applied Domains. In the residential domain, the distribution of models aligns with the overall results. The four most common model types are neural networks, optimiza- tion and HMM-based models, graph signal processing, while less popular methods in- clude Gaussian mixture models and classifier chains [74]. For office buildings, three studies utilize NILM. One study employs random forest and Fourier transform for feature extraction [25]. Article [60] works with both residen- tial and commercial buildings using mask-based deep neural network to disaggregate flexible, primarily heating and cooling-related, electricity loads [75]. In the third article, Hamed Nabizadeh Rafsanjani develops disaggregation framework that uses the DBSCAN clustering method to identify electricity load events caused by the same per- son.\"\n",
      "  },\n",
      "  {\n",
      "   \"text\": \"Both research articles conducted on industrial parks employ optimization frame- works. Article [26] utilizes an algorithm called OLDA (Optimization-Based Load Dis- aggregation Algorithm) developed in [39]. Another article creates an optimization model that leverages industry-specific features alongside electricity load for improved disaggregation results [27]. Articles working with electric vehicles employ various methods. A Kalman filter- based method is used in [28], which disaggregates feeder head-level residential electric vehicle load. Another study that attempts to identify the number of electric vehicles at charging station employs matching pursuits, sparse approximation algorithm [36]. Data and Data Sources. The most researched sampling frequency ranges between 1 second and 1 minute. These studies employ wide variety of methods, with neural networks being the most common. For example, some articles explore the use of atten- tion mechanisms to improve disaggregation models [39, 51, 76]. The second most 7 8 popular approaches are HMM-based [77, 78] and GSP-based models [36, 43]. Less commonly used methods include filtering techniques, such as particle filtering in article [79], and decision trees [47]. Optimization frameworks are the most utilized methods for data with frequencies between 1 and 15 minutes, such as linear optimization used by [67]. Other less common methods include neural networks [52] and clustering [18]. For very low-frequency data, sampled at 30 minutes or an hour, most studies employ neural networks [17] or optimi- zation [26]. Less frequently used are GPS [55] and sparse coding [36]. For high-fre- quency data, optimization [62] and HMM-based methods [49] are the most common. Overall, the diverse range of methods employed across different domains and data fre- quencies demonstrates the adaptability and versatility of NILM techniques in address- ing various load disaggregation problems.\"\n",
      "  },\n",
      "  {\n",
      "   \"text\": \"DISCUSSION We systematically reviewed studies of the development and evaluation of biomedical QA systems, focussing on their merits and drawbacks, evaluation and analysis, and the overall state of biomedical QA. Most of the included studies had high overall risks of bias and applicability concerns. Few of the papers satisfied any of utility criteria [18]. Several studies highlight obstacles that should be overcome and measures that should be taken before deploying biomedical QA systems. For example, one general-domain QA user study [93] found that users tended to prefer conventional search engines as they felt less cognitive load and were more effective with it than when they queried QA systems. We note that commercial search engines are likely to benefit from comparatively vast development resources, and focus on user experience. By contrast, the academic research we found tended to focus on the underlying computational methodology/models, with little attention to the user interface or experienceaspects which are likely highly influential in how QA systems are used. Law et al. [94] found that presenting users with causal claims and scatterplots could lead users to accept unfounded claims. Nonetheless, warning users that correlation is not causation led to more cautious treatment of reasonable claims. Additionally, Schuff et al. [96] and Yang et al. [95] explored metrics for assessing the quality of the explanations: 22 answer location score (LOCA) and the Fact-Removal score (FARM), F1 score and exact matches.\"\n",
      "  },\n",
      "  {\n",
      "   \"text\": \"On the other hand, considering the use of markers (Table 3), it was found that the marker-less systems were the most frequently used method, making up 67.31% of all reported studies, suggesting that non-invasive motion tracking approaches are the preferred choice for current research. Nonetheless, marker-based systems were mentioned in 9.62% of the publications, which indicates that they are still valuable but less commonly used than marker-less technologies. A small percentage, precisely 5.77%, investigated combination of marker-less and marker-based methods, showing an interest in hybrid systems that can utilize both benefits. Around 17.31% of papers did not provide specific information about the type of system used. Table 3. MoCap technology based on the use of markers.\"\n",
      "  },\n",
      "  {\n",
      "   \"text\": \"A. Category 1: Consumer-Oriented IoT 1) Security challenges: Consumer-oriented devices are de- signed to improve convenience and streamline users lives, but they also bring forth security and privacy challenges. One notable security issue in speech-based voice assistant systems is the voice squatting attack (VSA). These IoT devices often rely on third-party natural language processing services, which introduces risks such as security threats and potential data leaks. IoT vendors commonly out- source natural language processing to third-party providers, but cloud servers like Amazon and Google may not effectively identify security vulnerabilities associated with these third- party services. As result, malicious apps from third parties can infiltrate users phones, posing significant risk of stealing sensitive user information. Precise accuracy in voice command recognition is crucial for reliable performance in voice-based systems. Attackers can exploit vulnerabilities by mimicking user voice with certain alterations, potentially leading to unauthorized access, including for financial accounts. Attackers may also install ma- licious apps on users phones, increasing the risk of financial loss [33][35]. Notable examples of speech-based IoT devices include AI- powered voice assistants like Google Assistant, Apple Siri, and Microsoft Cortana. These devices further emphasize the importance of addressing security issues to safeguard user privacy and protect against potential attacks. Interoperability issue and unauthorized access on the interconnected network are other security issues for cloud-based IoT. Interoperability issue occurs when the device allows multiple apps to coexist. one such example is Samsung SmartThings, which is suscep- tible to 20 different security vulnerabilities [36].\"\n",
      "  },\n",
      "  {\n",
      "   \"text\": \"ily available but can also be reused across wide range of experiments. While it addresses the complexity and skill requirements of typical human-robot collaborative work, it lacks distinct assembly operations. On the other hand, the FurnitureBench is recent benchmark specifically tailored for robotic manipulation in furniture assembly, focusing on long-horizon planning, dexterous control, and robust visual perception [8]. Another modular benchmark emphasizes the concept of modular task boards where benchmark' parts are grouped into three domains: cubes, conductors and gears [13]. The main metrics for the benchmark' design were relevance, representativeness, cost-effectiveness and time efficiency. A notable feature of this benchmark is the incorporation of real electrical circuitry into the 3D printed models. Benchmarks have also been introduced for various other robotics sub-areas and applica- tions. The RLBench is benchmark and learning environment designed for robot learning [9]. It includes variety of unique hand-designed tasks and it was built upon the virtual robot experimentation platform (V-REP) [14]. In order to continually advance and improve the benchmark, task creation tools were developed. Another benchmark is presented for assessing mobile robot local planning approaches [17], encompassing diverse simulation sce- narios and metrics such as safety, efficiency, and smoothness of motion. There are several benchmarks dedicated to robotic grasping and manipulation, with one of the most com- monly used being the Yale-CMU-Berkeley Object and Model set [2]. It covers wide range of manipulation problems by incorporating vast array of everyday objects with distinct physical properties. In it, several example protocols, each yielding benchmark derived from it, are developed to quantify performance.\"\n",
      "  },\n",
      "  {\n",
      "   \"text\": \"Analytical methods are typically based on tractable convex approximations, .., via conditional Value-at-Risk (CVaR) [19], semidefinite programming formulations [20] or con- straint tightening [21], [22], [23]. Such methods have proven to be effective in providing probabilistic guarantees on the satisfaction of chance constraints, but are typically tailored to very specific types of constraints, uncertainty distributions and/or system dynamics, thereby limiting their applicability to real robotics problems. Besides the distinction between sample-based and analyt- ical methods, we also note that constraint violation probabil- ities can either be formulated pointwise, .., independently for each time step, or jointly, .., over the entire (finite) time horizon. This is important for robotics applications, where we are interested in robots being safe over the entire trajectory, .., having low joint probability of constraint violation. It it is possible to bound the joint probability from the point-wise probabilities using an additive approach (using Boole inequality and summing over all pointwise probabil- ities, .., [22], [16]) or multiplicative one (multiplying the complement of all pointwise probabilities, .., [24], [25]). Nevertheless, both approaches may lead to either an overestimation or underestimation of the joint probability, as the pointwise probabilities are typically not fully independent [10], [9]. This further motivates the use of sample-based methods, since they offer the flexibility of working directly on either the joint or pointwise formulations, depending on the application.\"\n",
      "  }\n",
      " ],\n",
      " \"truncate\": \"END\"\n",
      "}\n"
     ]
    }
   ],
   "source": [
    "rerank_url=\"http://rerankqa-mistral-4b.runai-genai.svc.cluster.local/v1/ranking\"\n",
    "\n",
    "start_string = '{\"model\": \"nvidia/nv-rerankqa-mistral-4b-v3\",\"query\": {\"text\":\"' + query + '\"},\"passages\": [{\"text\": \"'\n",
    " \n",
    "middle_string = '\"},{\"text\": \"'.join(results['cleaned_text'])\n",
    "\n",
    "middle_string = middle_string.encode(\"ascii\",\"ignore\")\n",
    "\n",
    "middle_string = middle_string.decode()\n",
    "\n",
    "end_string='\"}],\"truncate\": \"END\"}'\n",
    "\n",
    "rerank_string = start_string+middle_string+end_string\n",
    "\n",
    "json_object = json.loads(rerank_string)\n",
    "\n",
    "print (json.dumps(json_object, indent=1))"
   ]
  },
  {
   "cell_type": "code",
   "execution_count": 91,
   "id": "c330a5f3-1e3d-4bbc-aae9-ad6d081aba66",
   "metadata": {},
   "outputs": [
    {
     "name": "stdout",
     "output_type": "stream",
     "text": [
      "A large body of research on team formation only considers the team itself in isolation from the competitive environment. A study has involved multi-stage stochastic algorithms for team formation, but only to optimize two properties: cost and competency [11]. Others have focused on optimizing team formation while minimizing fault lines within the team, but without trying to maximize the competitiveness [12]. Others also focus on optimizing teams based on the generally accepted nine Belbin team roles or the experts and laymen problem [13], [14]. Such an approach is not generalizable in domain where flat hierarchy dominates the teams. Algorithms are developed for team formation in the field of software development, often using bio-inspired algorithms such as genetic algorithms [15], [16]. However, these often require fine-grained data for each member, using data mining techniques or manual intervention for the dataset creation [16]–[25]. Such precise data is not available in our domain where performance metrics are captured for the overall team as opposed to fine-grained for each member. Others research the domains where the in-depth competence for general set of skills is fundamental, but the diversity of skill types does not contribute to better performance [26]. Such team-making approaches are inapplicable in our domain, where diversity in background and skills is fundamental for the overall success of the team. Many team-making domains allow acquiring baseline pre- test data of member or surveys to help form teams [27], [28]. This is inadequate in our domain where members of teams change throughout season, and there is no baseline score or survey taken in our domain. Others use genetic algorithms to optimize group formation to promote collaborative problem-based learning but by bal- ancing teams so that members have similar skill levels [29], which is inapplicable to our competitive domain, where each team member often has specialized role described by skill metrics.\n",
      "   index      logit\n",
      "0      0  -4.078125\n",
      "1      6  -8.156250\n",
      "2      8 -10.875000\n",
      "3      1 -12.234375\n",
      "4      3 -12.234375\n",
      "5      2 -12.234375\n",
      "6      9 -13.585938\n",
      "7      4 -13.585938\n",
      "8      7 -13.585938\n",
      "9      5 -13.585938\n"
     ]
    }
   ],
   "source": [
    "headers = {\n",
    "    'accept': 'application/json',\n",
    "    'Content-Type': 'application/json'\n",
    "}\n",
    "\n",
    "response = requests.post(rerank_url, headers=headers, data=rerank_string)\n",
    "\n",
    "ranking = pd.DataFrame(response.json()['rankings'])\n",
    "\n",
    "citing_text = \"\"\n",
    "\n",
    "if ranking['logit'].loc[0] > -10:\n",
    "    citing_text = results['cleaned_text'].loc[ranking['index'].loc[0]]\n",
    "\n",
    "print(citing_text)\n",
    "\n",
    "print(ranking)"
   ]
  },
  {
   "cell_type": "code",
   "execution_count": null,
   "id": "afcff894-dade-46ee-886f-1675ce5fa739",
   "metadata": {},
   "outputs": [],
   "source": []
  }
 ],
 "metadata": {
  "kernelspec": {
   "display_name": "Python 3 (ipykernel)",
   "language": "python",
   "name": "python3"
  },
  "language_info": {
   "codemirror_mode": {
    "name": "ipython",
    "version": 3
   },
   "file_extension": ".py",
   "mimetype": "text/x-python",
   "name": "python",
   "nbconvert_exporter": "python",
   "pygments_lexer": "ipython3",
   "version": "3.11.6"
  }
 },
 "nbformat": 4,
 "nbformat_minor": 5
}
