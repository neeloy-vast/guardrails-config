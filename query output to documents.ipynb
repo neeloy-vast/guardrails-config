{
 "cells": [
  {
   "cell_type": "code",
   "execution_count": 35,
   "id": "92201724-fc20-4564-954d-29edcada2454",
   "metadata": {},
   "outputs": [],
   "source": [
    "import requests\n",
    "import json\n",
    "import pandas as pd\n",
    "from langchain.document_loaders import DataFrameLoader"
   ]
  },
  {
   "cell_type": "code",
   "execution_count": 37,
   "id": "88755d5c-cbe3-4985-a022-b36f59ae944d",
   "metadata": {},
   "outputs": [
    {
     "name": "stdout",
     "output_type": "stream",
     "text": [
      "0    for all subsets It of I. This is little bit of...\n",
      "1    Z Proof. Let λ be such that Re(λ) > 0 and func...\n",
      "2    L Using Proposition 2.9, we obtain that • L ψ(...\n",
      "3    (λαI By the substitution = θ−, we obtain: MAT ...\n",
      "4    α,ψ C 0+ Θ() = AΘ() + (, Θ(, )), D Θ(ξ, ) = 0,...\n",
      "5    24 9 4.1. Row characteristic 1) In each row, t...\n",
      "6    4.2. Column characteristic From top to bottom,...\n",
      "7    1) Distribute Match Results by Generalization:...\n",
      "8    Since the alliance compositions are recorded f...\n",
      "9    To apply mutation, once crossover is complete ...\n",
      "Name: cleaned_text, dtype: object\n"
     ]
    }
   ],
   "source": [
    "vectordb_url=\"http://vectordb.runai-vast.svc.cluster.local/retrieve-chunks/\"\n",
    "\n",
    "query_string = {'query':\"can you find a match to this string\"}\n",
    "\n",
    "response = requests.post(vectordb_url,json=query_string)\n",
    "\n",
    "results = pd.DataFrame(response.json()['results'])\n",
    "\n",
    "#print (json.dumps(response_json, indent=2))\n",
    "print (results['cleaned_text'])"
   ]
  },
  {
   "cell_type": "code",
   "execution_count": 38,
   "id": "9c02bfe3-42cb-4877-85d1-f5dbc596424b",
   "metadata": {},
   "outputs": [],
   "source": [
    "from langchain_core.documents import Document"
   ]
  },
  {
   "cell_type": "code",
   "execution_count": 40,
   "id": "e9e675d5-29f5-49d2-9a8a-12bbcfd42802",
   "metadata": {},
   "outputs": [],
   "source": [
    "loader = DataFrameLoader(results, page_content_column=\"cleaned_text\")\n",
    "documents = loader.load()"
   ]
  },
  {
   "cell_type": "code",
   "execution_count": 41,
   "id": "eccd9d6f-b188-4863-bf75-2ad18e7d22b3",
   "metadata": {},
   "outputs": [
    {
     "name": "stdout",
     "output_type": "stream",
     "text": [
      "[Document(metadata={'element_id': 'f55852b0bc3ba5682883609a0cdfe026', 'file_directory': '/tmp/pdf_chunker', 'filename': '2402.01745v1.pdf', 'filetype': 'application/pdf', 'languages': \"['eng']\", 'last_modified': '2024-10-04T14:15:37', 'page_number': '6'}, page_content='for all subsets It of I. This is little bit of complicated object to work with. However, since rejection ends the game and there is no recall, it is possible to compute the unique belief that arises in continuation play given strategy σ and state (µt, It) as fσ(µt,It)(µt). Thus, given prior belief µ0 and strategy σ, deﬁne sequence of induced beliefs {µσ } and an induced permutation τσ ∈ SI over boxes inductively as follows: (1) Fix prior µ0. Deﬁne τσ(1) = σ(µ0, I) and µσ = ,,(1) (Ho). (2) For any ≤ I, and the induced sequence {µσ , τσ()}−1 =1, deﬁne τσ() = σ(µσ −1, It) where It = I {σ()}−1 =1. Similarly, inductively deﬁne the belief µσ = fτσ(). (3) If < I, continue with step (2) again with the sequence {µσ , τσ()} =1 and time + 1. If = I, deﬁne the observed inspection order given σ to be {µσ , τσ()}I =1 I will sometimes refer to τ as search order and {µσ } as the induced beliefs. Note that each σ induces unique inspection order. In particular, τσ is deterministic, since acceptances end the search process. Each strategy σ also induces probability distribution pσ() over the probability that an agent will have to search over at least boxes, which is deﬁned by the function'), Document(metadata={'element_id': '96911ca654c2aba4d905081fe4b4019e', 'file_directory': '/tmp/pdf_chunker', 'filename': '2402.01754v1.pdf', 'filetype': 'application/pdf', 'languages': \"['eng']\", 'last_modified': '2024-10-04T17:33:42', 'page_number': '7'}, page_content='Z Proof. Let λ be such that Re(λ) > 0 and functions Θ and are, respectively, given by ∈ X. The generalized Laplace transform of the +∞ ϑψ(λ) = L ψ(Θ())(λ) = 0 −λ(ψ()−ψ(0))Θ()ψ′()ds, Z and +∞ −λ(ψ()−ψ(0)) (, Θ())ψ′()ds. Υψ(λ) = ψ( (, Θ()))(λ) = L 0 Z Let us now take λ such that λα ρ(A). Applying the generalized Laplace transform to (2), we ∈ get ϑψ(λ) = Θ0 λ + Θ1 λ2ψ′(0) + Aϑψ(λ) λα + Υψ(λ) λα . Indeed, we have Θ() = Θ0 + ψ() ψ(0) − ψ′(0) Θ1 + I α,ψ 0+ (AΘ() + (, Θ())) and by applying the generalized Laplace transforms, one obtains ψ(Θ())(λ) = L ψ(Θ0)(λ) + L ψ ψ() ψ(0) − ψ′(0) Θ1 (λ) + L ψ(I α,ψ 0+ (AΘ() + (, Θ())))(λ).'), Document(metadata={'element_id': '5c489546b3c93aff43d03df0b6f3a90d', 'file_directory': '/tmp/pdf_chunker', 'filename': '2402.01754v1.pdf', 'filetype': 'application/pdf', 'languages': \"['eng']\", 'last_modified': '2024-10-04T17:33:42', 'page_number': '7'}, page_content=\"L Using Proposition 2.9, we obtain that • L ψ(Θ0)(λ) = Θ0 λ ; • L ψ(I α,ψ 0+ (AΘ() + (, Θ())))(λ) = 1 λα A L ψ(Θ())(λ) + 1 λα L ψ( (, Θ()))(λ); and Ly (2° 61) (A) = [- eW()—4(0)) eo) '()@.ds = [- < [-<-MHer-¥O] '()ds ° - aan (3) Oo 1 © B(0) 7° ′ 7 Hence, ϑψ(λ) = Θ0 λ + Θ1 λ2ψ′(0) + Aϑψ(λ) λα + Υψ(λ) λα . It follows that ϑψ(λ) = λα−1 × (λαI − A)−1Θ0 + λα−2(λαI − A)−1 Θ1 ψ′(0) + (λαI − A)−1Υψ(λ). By Lemma 2.4, we can see that, for any X, we have ∈ +∞ • • λα−1(λαI − A)−1x = λq−1λq((λq)2I (λαI − A)−1x = ((λq)2I − A)−1x = − 0 A)−1x = λq−1e−λqtC()xdt, +∞ Z 0 −λqtS()xdt,\"), Document(metadata={'element_id': '1b232ffd19af102517998c4da7d96bf2', 'file_directory': '/tmp/pdf_chunker', 'filename': '2402.01754v1.pdf', 'filetype': 'application/pdf', 'languages': \"['eng']\", 'last_modified': '2024-10-04T17:33:42', 'page_number': '9'}, page_content='(λαI By the substitution = θ−, we obtain: MAT = Aye = £ [- ha , - () — =Ly bg(#)C ([(() — ¥(0))]\"1) add } (A) 0 qd =Ly (if M, (DC ({(W() — H(0))}70) vat) ) (A) and +00 -1-4 1 (T= Ay te = Ly ( [ awe-vor\\' at-#)8 (609 ~ 6(09\"9 at () +00 =Ly ([/ gl (() — W(0)|*! Mg (2)S ([() — 4(0)]22) eal) ) ()). This means that: Foo 1. ATT — Alla = Ly ([/ M,(DC ([(H() — ¥(0))J70) wal) ) (A); +00 2. (A%T- A) ae = Ly ([/ gl (() — ¥(0)|~* Mg (2)S ([() — 4(0)]22) eal) ) ds. ds. Similarly, we obtain that Foo dO? (AT — A) ta = AT! Ly ([/ M,(I)C ([(() — won\") xa) (A) (λ) and +00 (aay ty) = ey ([ fatto) vor mats (ui — vor\" Dal]) ty». ψ(1)(λ) = λ−1, by using Proposition 2.11 and Deﬁnition 2.10 we obtain that'), Document(metadata={'element_id': '40710d8ba41051ab6736a471ecf95ca0', 'file_directory': '/tmp/pdf_chunker', 'filename': '2402.01754v1.pdf', 'filetype': 'application/pdf', 'languages': \"['eng']\", 'last_modified': '2024-10-04T17:33:42', 'page_number': '20'}, page_content=\"α,ψ C 0+ Θ() = AΘ() + (, Θ(, )), D Θ(ξ, ) = 0, Θ(, 0) = Θ0() ; Θ(, 0) = Θ1(), in Ω × on ∂Ω in Ω, J, × J, (8) 20 (7) and it possesses one, and only one, mild solution provided that (H1)–(H2) or (H3)–(H5) are satisﬁed. Moreover, it has the following form: too Th = DIY Baas (WW — ¥(0))?4Av) (80, Yes) Phil”) = = +00 TK eb vy 1, Pej) Pry ( ) E2q,2 (( (W() — ¥(0)) 24 ),) = = +00 TK - +¥ [we wt ))?4-* Boog.oq (An(() — H())*4) (F (8, OC, 8)), Pay) ¥' (8) dsr, (2), = = Θ(, ) =\"), Document(metadata={'element_id': '502408206786c894ec8fcbe81352e602', 'file_directory': '/tmp/pdf_chunker', 'filename': '2402.00001v1.pdf', 'filetype': 'application/pdf', 'languages': \"['eng']\", 'last_modified': '2024-09-27T14:56:58', 'page_number': '9'}, page_content='24 9 4.1. Row characteristic 1) In each row, the ﬁrst column is always odd (empty when the initial value is even), and the last bit of its binary string must be 1, The second column must be even, its binary string must end with at least one 0, the number of subsequent even numbers must be as many as the number of zeros at the end of the second column’ binary string, and the number of zeros at the end of each even number to the right is one less than the previous one, until all zeros are deleted to become the last odd number in the row. The last column must be odd, and the last bit of its binary string must be 1. 2) When there are only three numbers in row, that is, only one even number, the last odd number must be greater than the ﬁrst odd number (the ﬁrst column); When there are more than three numbers in row, that is, more than two even numbers, the last odd number must be smaller than the ﬁrst odd number. 3) The preceding binary string is identical from the second column to the last column in one line, except for the all 0 at the end.'), Document(metadata={'element_id': '5f0df5562fc0ed9aab7a94f63208df84', 'file_directory': '/tmp/pdf_chunker', 'filename': '2402.00001v1.pdf', 'filetype': 'application/pdf', 'languages': \"['eng']\", 'last_modified': '2024-09-27T14:56:58', 'page_number': '10'}, page_content='4.2. Column characteristic From top to bottom, the binary string in the ﬁrst column of two adjacent rows has the following two characteristics: 1) If the number of bits of 1 in the last substring of the previous row is greater than 1, the number of bits of 1 in the last substring of the next row is reduced by one, and the momentum of this reduction of one bit remains unchanged until it ﬁnally becomes only one; The corresponding number is greater than the number in the previous row; 2) If the last substring of the binary string in row contains only one bit of 1, then the last substring of the binary string in the next row contains either one bit of 1 or many bits of 1, and the corresponding number is smaller than the number in the previous row; 3) Within each line, the number of bits in the ﬁrst binary string is increased by 1 bit with the number in the second binary string, but for hard numbers, the number is increased by 2 bits. The reduction is at least 1 bit, and when it is hard number of bits, the number is reduced by + 1.'), Document(metadata={'element_id': '62f546588919fa255a94ae4784efcd4c', 'file_directory': '/tmp/pdf_chunker', 'filename': '2402.00031v1.pdf', 'filetype': 'application/pdf', 'languages': \"['eng']\", 'last_modified': '2024-09-27T15:08:04', 'page_number': '4'}, page_content='1) Distribute Match Results by Generalization: For each match in given year, both the “Red” and “Blue” alliances are evaluated based on how many points they earn in the default scoring activity (Traditional Scoring Low), the higher difficulty scoring activity (Traditional Scoring High), the technical scor- ing activity (Technical Scoring), the autonomous scoring phase (Autonomous Scoring), the endgame goal, and the number of points lost due to fouls. The number of points earned by team in each performance indicator is calculated based on the rules of the competition in the given year. For each team, the Defense Score is defined as negative integer denoting the total number of points that is the opposing alliance score during match. This attribute aims to evaluate robots on how well they “play defense” during match (.., blocking the shots of other robots, getting in their way without causing fouls, etc.). 2) Extract Individual Robot Statistics: The individual scores for each competing robot are computed by collecting every match in which the robot presents and calculating the mean of their alliance’ performance in every performance indicator. Since the teams in each qualifying match are randomized, the given robot is the only common variable between each qualifying match. The mean of their alliance’ performance in each match that the robot is part of provides arg leg Lay oftigs -competitionID celyeey If matches exist Deter) Cre) If no matches- Add to L=Tele ly Add metadata (year, Cee) Fig. 3. Data Processing Pipeline for the Data Manipulation Phase. an aggregate metric of overall contribution.'), Document(metadata={'element_id': 'e84322e11708217eb349f2852e502807', 'file_directory': '/tmp/pdf_chunker', 'filename': '2402.00031v1.pdf', 'filetype': 'application/pdf', 'languages': \"['eng']\", 'last_modified': '2024-09-27T15:08:04', 'page_number': '5'}, page_content='Since the alliance compositions are recorded for each match, the dataset of each match with winner/loser labels is expanded with each robot’ seven statistics from III-D. Each team’ skill scores, computed in the previous pipeline, are fetched from the BigQuery table and joined to this match results table. The resulting dataset consists of 63,945 matches and 14 attributes (seven metrics for two alliances) with binary “red won” as our prediction target. Fig. 4 shows the workflow for the processing pipeline. Moreover, the dataset is pre-processed to contain no missing data. Once the cleaning is complete, the dataset is split into training and test sets with an 85/15 split for the model training'), Document(metadata={'element_id': 'cedbfb85f213eebffd1f9d3932e8742c', 'file_directory': '/tmp/pdf_chunker', 'filename': '2402.00089v1.pdf', 'filetype': 'application/pdf', 'languages': \"['eng']\", 'last_modified': '2024-09-27T15:14:28', 'page_number': '3'}, page_content='To apply mutation, once crossover is complete and we have four child solutions, we then examine each child’ attribute. We check to see if the current value of the attribute matches value rated as bad for either parent 1 or parent 2 (where that match may be exact or similar, determined with another GPT-4 prompt, again making use of its knowledge of language). If it is match then the attribute is added to the attributes to mutate list. If an attribute is unrated, then there is 50% chance it will also be added to the attributes to mutate list (this is to allow more exploration, as users may not always rate something). We then pass the list of attributes to mutate to GPT-4 (along with the list of all tabu values rated bad by the user) and specify that it should provide novel alternative for each attribute that do not match the tabu values. For example, if site must not have the values [“Rural setting”, “Coastal cliffside”], then the new random value might be “Mountainous highland”. Again, we make use of GPT-4’ knowledge of language to generate new alternatives, so we do not need dictionaries or look-up tables of possible words ( more restrictive and time- consuming method). Once mutated, the new four child solutions are passed to DALL·E 3 for image generation as described above and the algorithm loops until the user clicks on “I’ done!” Fig. 4. Rating final best image and providing feedback. Fig. 5. SCAPE Gallery available to all users. F. Final Best Solution When the user indicates they are finished, they will be prompted to select their favourite image from all the images below and to rate its attributes, see Fig. 4. G. Gallery of Evolved Images SCAPE also provides gallery of all images produced by the users to help users see the possibilities for the tool, Fig. 5. H. Justification of Design Decisions')]\n"
     ]
    }
   ],
   "source": [
    "print (documents)"
   ]
  },
  {
   "cell_type": "code",
   "execution_count": null,
   "id": "0cb80841-184d-4924-9f5a-8d3b1c9597fa",
   "metadata": {},
   "outputs": [],
   "source": []
  }
 ],
 "metadata": {
  "kernelspec": {
   "display_name": "Python 3 (ipykernel)",
   "language": "python",
   "name": "python3"
  },
  "language_info": {
   "codemirror_mode": {
    "name": "ipython",
    "version": 3
   },
   "file_extension": ".py",
   "mimetype": "text/x-python",
   "name": "python",
   "nbconvert_exporter": "python",
   "pygments_lexer": "ipython3",
   "version": "3.11.6"
  }
 },
 "nbformat": 4,
 "nbformat_minor": 5
}
